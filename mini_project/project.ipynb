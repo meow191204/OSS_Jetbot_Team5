{
 "cells": [
  {
   "cell_type": "code",
   "execution_count": 1,
   "metadata": {},
   "outputs": [],
   "source": [
    "from jetbot import ObjectDetector\n",
    "\n",
    "model = ObjectDetector('ssd_mobilenet_v2_coco.engine')    "
   ]
  },
  {
   "cell_type": "code",
   "execution_count": 2,
   "metadata": {},
   "outputs": [],
   "source": [
    "from jetbot import Camera\n",
    "\n",
    "#camera = Camera.instance(width=224, height=224, fps=10)\n",
    "camera = Camera.instance(width=300, height=300)"
   ]
  },
  {
   "cell_type": "code",
   "execution_count": 3,
   "metadata": {},
   "outputs": [
    {
     "name": "stdout",
     "output_type": "stream",
     "text": [
      "[[{'label': 62, 'confidence': 0.9580695033073425, 'bbox': [0.005749940872192383, 0.38120654225349426, 0.2992469370365143, 0.8833380937576294]}, {'label': 72, 'confidence': 0.672331690788269, 'bbox': [0.07962486147880554, 0.1782410740852356, 0.35596951842308044, 0.40081506967544556]}, {'label': 72, 'confidence': 0.39140594005584717, 'bbox': [0.4887627065181732, 0.19235262274742126, 0.7384192943572998, 0.40062639117240906]}, {'label': 73, 'confidence': 0.358465313911438, 'bbox': [0.07962486147880554, 0.1782410740852356, 0.35596951842308044, 0.40081506967544556]}, {'label': 67, 'confidence': 0.35488012433052063, 'bbox': [0.16370928287506104, 0.39940571784973145, 0.5380027294158936, 0.875756025314331]}]]\n"
     ]
    }
   ],
   "source": [
    "detections = model(camera.value)\n",
    "\n",
    "print(detections)"
   ]
  },
  {
   "cell_type": "code",
   "execution_count": 4,
   "metadata": {},
   "outputs": [
    {
     "data": {
      "application/vnd.jupyter.widget-view+json": {
       "model_id": "6ccb6b32f18b4e9f96487c0ed4415f00",
       "version_major": 2,
       "version_minor": 0
      },
      "text/plain": [
       "Textarea(value=\"[[{'label': 62, 'confidence': 0.9580695033073425, 'bbox': [0.005749940872192383, 0.38120654225…"
      ]
     },
     "metadata": {},
     "output_type": "display_data"
    }
   ],
   "source": [
    "from IPython.display import display\n",
    "import ipywidgets.widgets as widgets\n",
    "\n",
    "detections_widget = widgets.Textarea()\n",
    "detections_widget.value = str(detections)\n",
    "display(detections_widget)"
   ]
  },
  {
   "cell_type": "code",
   "execution_count": 5,
   "metadata": {},
   "outputs": [
    {
     "name": "stdout",
     "output_type": "stream",
     "text": [
      "{'label': 62, 'confidence': 0.9580695033073425, 'bbox': [0.005749940872192383, 0.38120654225349426, 0.2992469370365143, 0.8833380937576294]}\n"
     ]
    }
   ],
   "source": [
    "image_number = 0\n",
    "object_number = 0\n",
    "\n",
    "print(detections[image_number][object_number])"
   ]
  },
  {
   "cell_type": "code",
   "execution_count": 6,
   "metadata": {},
   "outputs": [],
   "source": [
    "import torch\n",
    "import torchvision\n",
    "import torch.nn.functional as F\n",
    "import cv2\n",
    "import numpy as np\n",
    "\n",
    "# collision_model = torchvision.models.alexnet(pretrained=False)\n",
    "# collision_model.classifier[6] = torch.nn.Linear(collision_model.classifier[6].in_features, 2)\n",
    "# collision_model.load_state_dict(torch.load('best_model.pth'))\n",
    "# device = torch.device('cuda')\n",
    "# collision_model = collision_model.to(device)\n",
    "\n",
    "mean = 255.0 * np.array([0.485, 0.456, 0.406])\n",
    "stdev = 255.0 * np.array([0.229, 0.224, 0.225])\n",
    "\n",
    "normalize = torchvision.transforms.Normalize(mean, stdev)\n",
    "\n",
    "def preprocess(camera_value):\n",
    "    global device, normalize\n",
    "    x = camera_value\n",
    "    # Image zoomed to 224,224 versus 224,244 obstacle avoidance model\n",
    "    x = cv2.resize(x, (224, 224))\n",
    "    x = cv2.cvtColor(x, cv2.COLOR_BGR2RGB)\n",
    "    x = x.transpose((2, 0, 1))\n",
    "    x = torch.from_numpy(x).float()\n",
    "    x = normalize(x)\n",
    "    x = x.to(device)\n",
    "    x = x[None, ...]\n",
    "    return x"
   ]
  },
  {
   "cell_type": "code",
   "execution_count": 7,
   "metadata": {},
   "outputs": [],
   "source": [
    "from jetbot import Robot\n",
    "\n",
    "robot = Robot()"
   ]
  },
  {
   "cell_type": "code",
   "execution_count": 8,
   "metadata": {},
   "outputs": [],
   "source": [
    "import PID\n",
    "\n",
    "global follow_speed\n",
    "follow_speed = 0.5\n",
    "global turn_gain\n",
    "turn_gain = 1.7\n",
    "global follow_speed_pid, follow_speed_pid_model\n",
    "follow_speed_pid_model = 1\n",
    "# follow_speed_pid = PID.PositionalPID(3, 0, 0)\n",
    "follow_speed_pid = PID.PositionalPID(1.5, 0, 0.05)\n",
    "global turn_gain_pid\n",
    "turn_gain_pid = PID.PositionalPID(0.15, 0, 0.05)\n",
    "global object_yservo_pid\n",
    "object_yservo_pid = PID.PositionalPID(3, 0.5, 0)"
   ]
  },
  {
   "cell_type": "code",
   "execution_count": 9,
   "metadata": {},
   "outputs": [
    {
     "data": {
      "application/vnd.jupyter.widget-view+json": {
       "model_id": "dd5b274a281341808dce412e47721556",
       "version_major": 2,
       "version_minor": 0
      },
      "text/plain": [
       "VBox(children=(HBox(children=(Image(value=b'', format='jpeg', height='300', width='300'),)), IntText(value=47,…"
      ]
     },
     "metadata": {},
     "output_type": "display_data"
    }
   ],
   "source": [
    "from jetbot import bgr8_to_jpeg\n",
    "\n",
    "image_widget = widgets.Image(format='jpeg', width=300, height=300)\n",
    "label_widget = widgets.IntText(value=47, description='tracked label')\n",
    "\n",
    "display(widgets.VBox([\n",
    "    widgets.HBox([image_widget]),\n",
    "    label_widget,\n",
    "]))\n",
    "\n",
    "width = int(image_widget.width)\n",
    "height = int(image_widget.height)\n",
    "\n",
    "def detection_center(detection):\n",
    "    \"\"\"Calculate the center x, y coordinates of the object\"\"\"\n",
    "    bbox = detection['bbox']\n",
    "    center_x = (bbox[0] + bbox[2]) / 2.0 - 0.5\n",
    "    center_y = (bbox[1] + bbox[3]) / 2.0 - 0.5\n",
    "    return (center_x, center_y)\n",
    "    \n",
    "def norm(vec):\n",
    "    \"\"\"Calculate the length of a two-dimensional vector\"\"\"\n",
    "    return np.sqrt(vec[0]**2 + vec[1]**2)\n",
    "\n",
    "def closest_detection(detections):\n",
    "    \"\"\"Find the detection closest to the center of the image\"\"\"\n",
    "    closest_detection = None\n",
    "    for det in detections:\n",
    "        center = detection_center(det)\n",
    "        if closest_detection is None:\n",
    "            closest_detection = det\n",
    "        elif norm(detection_center(det)) < norm(detection_center(closest_detection)):\n",
    "            closest_detection = det\n",
    "    return closest_detection\n",
    "        \n",
    "def execute(change):\n",
    "    global follow_speed\n",
    "    global turn_gain\n",
    "    global follow_speed_pid\n",
    "    target_value_speed = 0\n",
    "    #Update image value\n",
    "    image = change['new']\n",
    "\n",
    "    # Execute a conflict model to determine if it is blocking\n",
    "    # execute collision model to determine if blocked\n",
    "    # collision_output = collision_model(preprocess(image)).detach().cpu()\n",
    "    # Apply the \"softmax\" function to normalize the output vector to have a sum of 1 (this makes it a probability distribution)\n",
    "    # prob_blocked = float(F.softmax(collision_output.flatten(), dim=0)[0])\n",
    "    # blocked_widget.value = prob_blocked\n",
    "    \n",
    "    # Blocking does not execute the following object detection program, directly return to the next round of data refresh\n",
    "    # turn left if blocked\n",
    "    # if prob_blocked > 0.5:\n",
    "    #     robot.left(0.3)\n",
    "    #     image_widget.value = bgr8_to_jpeg(image)\n",
    "    #     return\n",
    "        \n",
    "    # compute all detected objects\n",
    "    detections = model(image)\n",
    "    # First, mark the non-tracking objects that appear with blue lines.\n",
    "    # Draw all detections on image\n",
    "    for det in detections[0]:\n",
    "        bbox = det['bbox']\n",
    "        cv2.rectangle(image, (int(300 * bbox[0]), int(300 * bbox[1])), (int(300 * bbox[2]), int(300 * bbox[3])), (255, 0, 0), 2)\n",
    "    # Select the object you want to track, select the value of label_widget,1 is person,\n",
    "    # select detections that match selected class label\n",
    "    matching_detections = [d for d in detections[0] if d['label'] == int(label_widget.value)]\n",
    "    \n",
    "    # Then mark the object to be tracked with green lines.\n",
    "    # get detection closest to center of field of view and draw it\n",
    "    det = closest_detection(matching_detections)\n",
    "    if det is not None:\n",
    "        bbox = det['bbox']\n",
    "        cv2.rectangle(image, (int(300 * bbox[0]), int(300 * bbox[1])), (int(300 * bbox[2]), int(300 * bbox[3])), (0, 255, 0), 4)\n",
    "\n",
    "    # otherwise go forward if no target detected\n",
    "    '''\n",
    "    blob:https---------A string of tags generated by the blob object in html5 after being assigned to the video tag.\n",
    "    '''\n",
    "    if det is None:\n",
    "        # robot.forward(float(follow_speed))\n",
    "        robot.stop()\n",
    "    # otherwsie steer towards target\n",
    "    else:\n",
    "        # move robot forward and steer proportional target's x-distance from center\n",
    "        center = detection_center(det)\n",
    "\n",
    "        #Follow speed PID adjustment\n",
    "        follow_speed_pid.SystemOutput = 90000 * (bbox[2] - bbox[0]) * (bbox[3] - bbox[1])\n",
    "        if label_widget.value == 1:\n",
    "            follow_speed_pid.SetStepSignal(30000)\n",
    "        elif label_widget.value == 53 or label_widget.value == 55: # 53:Apple 55:orange\n",
    "            follow_speed_pid.SetStepSignal(10000)\n",
    "        else:\n",
    "            follow_speed_pid.SetStepSignal(10000)\n",
    "        follow_speed_pid.SetInertiaTime(0.2, 0.1)\n",
    "\n",
    "        #Steering gain PID adjustment\n",
    "        turn_gain_pid.SystemOutput = center[0]\n",
    "        turn_gain_pid.SetStepSignal(0)\n",
    "        turn_gain_pid.SetInertiaTime(0.2, 0.1)\n",
    "\n",
    "        #Limit steering gain to the effective range\n",
    "        if label_widget.value == 1:\n",
    "            target_value_turn_gain = 0.6 + abs(turn_gain_pid.SystemOutput)\n",
    "        elif label_widget.value == 53 or label_widget.value == 55:\n",
    "            target_value_turn_gain = 0.5 + abs(turn_gain_pid.SystemOutput)\n",
    "        else:\n",
    "            target_value_turn_gain = 0.5 + abs(turn_gain_pid.SystemOutput)\n",
    "        if target_value_turn_gain < 0:\n",
    "            target_value_turn_gain = 0\n",
    "        elif target_value_turn_gain > 2:\n",
    "            target_value_turn_gain = 2\n",
    "\n",
    "        #Keep the output motor speed within the effective driving range\n",
    "        target_value_speed = 0.46 + follow_speed_pid.SystemOutput / 90000\n",
    "        target_value_speedl = target_value_speed + target_value_turn_gain * center[0]\n",
    "        target_value_speedr = target_value_speed - target_value_turn_gain * center[0]\n",
    "        if target_value_speedl<0.5:\n",
    "            target_value_speedl=0\n",
    "        elif target_value_speedl>1:\n",
    "            target_value_speedl = 1\n",
    "        if target_value_speedr<0.5:\n",
    "            target_value_speedr=0\n",
    "        elif target_value_speedr>1:\n",
    "            target_value_speedr = 1\n",
    "\n",
    "        robot.set_motors(target_value_speedl, target_value_speedr)\n",
    "        \n",
    "        if label_widget.value != 1:\n",
    "            #Vertical angle camera PID adjustment\n",
    "            object_yservo_pid.SystemOutput =bbox[1]*300+150*(bbox[3] - bbox[1])\n",
    "            # print('Y-axis object center position value:')\n",
    "            # print(object_yservo_pid.SystemOutput)\n",
    "            object_yservo_pid.SetStepSignal(150)\n",
    "            object_yservo_pid.SetInertiaTime(0.2, 0.1)\n",
    "            #Limit the vertical angle camera angle to the specified range\n",
    "            target_value_object_yservo = int(2048 + object_yservo_pid.SystemOutput)\n",
    "            servo_device.Servo_serial_control(2, target_value_object_yservo)\n",
    "    # Update image display to widget\n",
    "    image_widget.value = bgr8_to_jpeg(image)\n",
    "    \n",
    "execute({'new': camera.value})"
   ]
  },
  {
   "cell_type": "code",
   "execution_count": 13,
   "metadata": {},
   "outputs": [
    {
     "name": "stderr",
     "output_type": "stream",
     "text": [
      "Exception in thread Thread-7:\n",
      "Traceback (most recent call last):\n",
      "  File \"/usr/lib/python3.6/threading.py\", line 916, in _bootstrap_inner\n",
      "    self.run()\n",
      "  File \"/usr/lib/python3.6/threading.py\", line 864, in run\n",
      "    self._target(*self._args, **self._kwargs)\n",
      "  File \"<ipython-input-13-f96b5e2a7d5d>\", line 26, in test\n",
      "    execute({'new': camera.value})\n",
      "  File \"<ipython-input-9-38856c137e31>\", line 139, in execute\n",
      "    servo_device.Servo_serial_control(2, target_value_object_yservo)\n",
      "NameError: name 'servo_device' is not defined\n",
      "\n"
     ]
    }
   ],
   "source": [
    "#camera.unobserve_all()\n",
    "#camera.observe(execute, names='value')\n",
    "\n",
    "import threading\n",
    "import inspect\n",
    "import ctypes\n",
    "''' definition of the close thread function'''\n",
    "def _async_raise(tid, exctype):\n",
    "  \"\"\"raises the exception, performs cleanup if needed\"\"\"\n",
    "  tid = ctypes.c_long(tid)\n",
    "  if not inspect.isclass(exctype):\n",
    "    exctype = type(exctype)\n",
    "  res = ctypes.pythonapi.PyThreadState_SetAsyncExc(tid, ctypes.py_object(exctype))\n",
    "  if res == 0:\n",
    "    raise ValueError(\"invalid thread id\")\n",
    "  elif res != 1:\n",
    "    # \"\"\"if it returns a number greater than one, you're in trouble,\n",
    "    # and you should call it again with exc=NULL to revert the effect\"\"\"\n",
    "    ctypes.pythonapi.PyThreadState_SetAsyncExc(tid, None)\n",
    "    raise SystemError(\"PyThreadState_SetAsyncExc failed\")\n",
    "def stop_thread(thread):\n",
    "  _async_raise(thread.ident, SystemExit)\n",
    "'''The function of thread 1, which continuously calls the detection function'''\n",
    "def test():\n",
    "    while True:\n",
    "        execute({'new': camera.value})        \n",
    "\n",
    "thread1 = threading.Thread(target=test)\n",
    "thread1.setDaemon(False)\n",
    "thread1.start()\n"
   ]
  },
  {
   "cell_type": "code",
   "execution_count": 12,
   "metadata": {},
   "outputs": [],
   "source": [
    "import time\n",
    "stop_thread(thread1)\n",
    "camera.unobserve_all()\n",
    "time.sleep(1.0)\n",
    "robot.stop()"
   ]
  },
  {
   "cell_type": "code",
   "execution_count": null,
   "metadata": {},
   "outputs": [],
   "source": []
  },
  {
   "cell_type": "code",
   "execution_count": null,
   "metadata": {},
   "outputs": [],
   "source": []
  }
 ],
 "metadata": {
  "kernelspec": {
   "display_name": "Python 3",
   "language": "python",
   "name": "python3"
  },
  "language_info": {
   "codemirror_mode": {
    "name": "ipython",
    "version": 3
   },
   "file_extension": ".py",
   "mimetype": "text/x-python",
   "name": "python",
   "nbconvert_exporter": "python",
   "pygments_lexer": "ipython3",
   "version": "3.6.9"
  }
 },
 "nbformat": 4,
 "nbformat_minor": 4
}
