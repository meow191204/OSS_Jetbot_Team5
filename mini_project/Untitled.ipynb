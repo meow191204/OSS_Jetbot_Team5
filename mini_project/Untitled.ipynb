{
 "cells": [
  {
   "cell_type": "code",
   "execution_count": 1,
   "metadata": {},
   "outputs": [
    {
     "data": {
      "application/vnd.jupyter.widget-view+json": {
       "model_id": "5e7f04ddc4e142fda85c58adeeb5cdc4",
       "version_major": 2,
       "version_minor": 0
      },
      "text/plain": [
       "Image(value=b'', format='jpeg', height='224', width='224')"
      ]
     },
     "metadata": {},
     "output_type": "display_data"
    }
   ],
   "source": [
    "from jetbot import Camera\n",
    "import ipywidgets.widgets as widgets\n",
    "from IPython.display import display\n",
    "import traitlets\n",
    "from jetbot import bgr8_to_jpeg\n",
    "\n",
    "camera = Camera.instance(width=224, height=224)\n",
    "image = widgets.Image(format='jpeg',width=224,height=224)\n",
    "display(image)\n",
    "camera_link = traitlets.dlink((camera,'value'),(image,'value'),transform= bgr8_to_jpeg)"
   ]
  },
  {
   "cell_type": "code",
   "execution_count": 1,
   "metadata": {},
   "outputs": [],
   "source": [
    "from RGB_Lib import Programing_RGB\n",
    "RGB = Programing_RGB()"
   ]
  },
  {
   "cell_type": "code",
   "execution_count": 2,
   "metadata": {},
   "outputs": [],
   "source": [
    "RGB.Set_WaterfallLight_RGB()"
   ]
  },
  {
   "cell_type": "code",
   "execution_count": 4,
   "metadata": {},
   "outputs": [],
   "source": [
    "RGB.Set_ChameleonLight_RGB()"
   ]
  },
  {
   "cell_type": "code",
   "execution_count": 5,
   "metadata": {},
   "outputs": [],
   "source": [
    "RGB.Set_BreathColor_RGB()"
   ]
  },
  {
   "cell_type": "code",
   "execution_count": 6,
   "metadata": {},
   "outputs": [],
   "source": [
    "RGB.Set_BreathSColor_RGB(2)\n",
    "RGB.OFF_ALL_RGB()\n",
    "RGB.Set_BreathSSpeed_RGB(1)\n",
    "RGB.OFF_ALL_RGB()\n",
    "RGB.Set_BreathSLight_RGB()"
   ]
  },
  {
   "cell_type": "code",
   "execution_count": 7,
   "metadata": {},
   "outputs": [],
   "source": [
    "RGB.OFF_ALL_RGB()"
   ]
  },
  {
   "cell_type": "code",
   "execution_count": 16,
   "metadata": {},
   "outputs": [
    {
     "data": {
      "application/vnd.jupyter.widget-view+json": {
       "model_id": "f3e2c39a21a04935b24069b0e5f90c72",
       "version_major": 2,
       "version_minor": 0
      },
      "text/plain": [
       "Image(value=b'', format='jpeg', height='224', width='224')"
      ]
     },
     "metadata": {},
     "output_type": "display_data"
    },
    {
     "name": "stdin",
     "output_type": "stream",
     "text": [
      "w,d,a,s w\n"
     ]
    },
    {
     "name": "stdout",
     "output_type": "stream",
     "text": [
      "w Pressed ... \n"
     ]
    },
    {
     "name": "stdin",
     "output_type": "stream",
     "text": [
      "w,d,a,s a\n"
     ]
    },
    {
     "name": "stdout",
     "output_type": "stream",
     "text": [
      "a Pressed ... \n"
     ]
    },
    {
     "name": "stdin",
     "output_type": "stream",
     "text": [
      "w,d,a,s t\n"
     ]
    },
    {
     "name": "stdout",
     "output_type": "stream",
     "text": [
      "t Pressed ... \n"
     ]
    }
   ],
   "source": [
    "from jetbot import Camera\n",
    "import ipywidgets.widgets as widgets\n",
    "from IPython.display import display\n",
    "import traitlets\n",
    "from RGB_Lib import Programing_RGB\n",
    "import time\n",
    "\n",
    "RGB = Programing_RGB()\n",
    "\n",
    "try : \n",
    "    camera = Camera.instance(width=224, height=224)\n",
    "    image = widgets.Image(format='jpeg',width=224,height=224)\n",
    "    display(image)\n",
    "    \n",
    "    camera_link = traitlets.dlink((camera,'value'),(image,'value'),transform= bgr8_to_jpeg)\n",
    "    \n",
    "\n",
    "    RGB.Set_An_RGB(0,0xFF,0xFF,0xFF)\n",
    "    time.sleep(0.5)\n",
    "    RGB.Set_All_RGB(0xFF,0x00,0x00)\n",
    "    time.sleep(0.5)\n",
    "    RGB.Set_All_RGB(0x00,0xFF,0x00)\n",
    "    time.sleep(0.5)\n",
    "    RGB.Set_All_RGB(0x00,0x00,0xFF)\n",
    "    time.sleep(0.5)\n",
    "    \n",
    "    while True:\n",
    "        key = input('w,d,a,s')\n",
    "        key = key.lower()\n",
    "        print(f'{key} Pressed ... ')\n",
    "        \n",
    "        if key == 'w':\n",
    "            RGB.Set_WaterfallLight_RGB()\n",
    "        elif key == 'a':\n",
    "            RGB.Set_ChameleonLight_RGB()\n",
    "        elif key == 'd':\n",
    "            RGB.Set_BreathColor_RGB()\n",
    "        elif key =='s':\n",
    "            RGB.OFF_ALL_RGB()\n",
    "        else:\n",
    "            break\n",
    "            \n",
    "except :\n",
    "    RGB.OFF_ALL_RGB()"
   ]
  },
  {
   "cell_type": "code",
   "execution_count": 15,
   "metadata": {},
   "outputs": [
    {
     "name": "stdin",
     "output_type": "stream",
     "text": [
      "f,b,r,l f\n"
     ]
    },
    {
     "name": "stdout",
     "output_type": "stream",
     "text": [
      "f Pressed ... \n"
     ]
    },
    {
     "name": "stdin",
     "output_type": "stream",
     "text": [
      "f,b,r,l f\n"
     ]
    },
    {
     "name": "stdout",
     "output_type": "stream",
     "text": [
      "f Pressed ... \n"
     ]
    },
    {
     "name": "stdin",
     "output_type": "stream",
     "text": [
      "f,b,r,l f\n"
     ]
    },
    {
     "name": "stdout",
     "output_type": "stream",
     "text": [
      "f Pressed ... \n"
     ]
    },
    {
     "name": "stdin",
     "output_type": "stream",
     "text": [
      "f,b,r,l b\n"
     ]
    },
    {
     "name": "stdout",
     "output_type": "stream",
     "text": [
      "b Pressed ... \n"
     ]
    },
    {
     "name": "stdin",
     "output_type": "stream",
     "text": [
      "f,b,r,l y\n"
     ]
    },
    {
     "name": "stdout",
     "output_type": "stream",
     "text": [
      "y Pressed ... \n"
     ]
    }
   ],
   "source": [
    "\n",
    "from jetbot import Robot\n",
    "robot = Robot()\n",
    "\n",
    "while True:\n",
    "    key = input('f,b,r,l')\n",
    "    key = key.lower()\n",
    "    print(f'{key} Pressed ... ')\n",
    "\n",
    "    if key == 'f':\n",
    "        robot.forward(3)\n",
    "        time.sleep(2)\n",
    "        robot.stop()\n",
    "    elif key == 'b':\n",
    "        robot.backward(3)\n",
    "        time.sleep(2)\n",
    "        robot.stop()\n",
    "    elif key == 'r':\n",
    "        robot.right(0.75)\n",
    "        time.sleep(1)\n",
    "        robot.stop()\n",
    "    elif key =='l':\n",
    "        robot.left(0.75)\n",
    "        time.sleep(1)\n",
    "        robot.stop()\n",
    "    else:\n",
    "        break"
   ]
  },
  {
   "cell_type": "code",
   "execution_count": null,
   "metadata": {},
   "outputs": [],
   "source": []
  }
 ],
 "metadata": {
  "kernelspec": {
   "display_name": "Python 3",
   "language": "python",
   "name": "python3"
  },
  "language_info": {
   "codemirror_mode": {
    "name": "ipython",
    "version": 3
   },
   "file_extension": ".py",
   "mimetype": "text/x-python",
   "name": "python",
   "nbconvert_exporter": "python",
   "pygments_lexer": "ipython3",
   "version": "3.6.9"
  }
 },
 "nbformat": 4,
 "nbformat_minor": 4
}
