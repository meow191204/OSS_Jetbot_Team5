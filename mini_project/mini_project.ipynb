{
 "cells": [
  {
   "cell_type": "code",
   "execution_count": 1,
   "metadata": {},
   "outputs": [
    {
     "name": "stderr",
     "output_type": "stream",
     "text": [
      "/usr/local/lib/python3.6/dist-packages/Jetson/GPIO/gpio.py:352: RuntimeWarning: This channel is already in use, continuing anyway. Use GPIO.setwarnings(False) to disable warnings\n",
      "  RuntimeWarning)\n"
     ]
    },
    {
     "name": "stdin",
     "output_type": "stream",
     "text": [
      "f,b,r,l f\n"
     ]
    },
    {
     "name": "stdout",
     "output_type": "stream",
     "text": [
      "f Pressed ... \n"
     ]
    },
    {
     "name": "stdin",
     "output_type": "stream",
     "text": [
      "f,b,r,l b\n"
     ]
    },
    {
     "name": "stdout",
     "output_type": "stream",
     "text": [
      "b Pressed ... \n"
     ]
    },
    {
     "name": "stdin",
     "output_type": "stream",
     "text": [
      "f,b,r,l r\n"
     ]
    },
    {
     "name": "stdout",
     "output_type": "stream",
     "text": [
      "r Pressed ... \n"
     ]
    },
    {
     "name": "stdin",
     "output_type": "stream",
     "text": [
      "f,b,r,l l\n"
     ]
    },
    {
     "name": "stdout",
     "output_type": "stream",
     "text": [
      "l Pressed ... \n"
     ]
    },
    {
     "name": "stdin",
     "output_type": "stream",
     "text": [
      "f,b,r,l f\n"
     ]
    },
    {
     "name": "stdout",
     "output_type": "stream",
     "text": [
      "f Pressed ... \n"
     ]
    },
    {
     "name": "stdin",
     "output_type": "stream",
     "text": [
      "f,b,r,l k\n"
     ]
    },
    {
     "name": "stdout",
     "output_type": "stream",
     "text": [
      "k Pressed ... \n"
     ]
    }
   ],
   "source": [
    "from jetbot import Robot\n",
    "robot = Robot()\n",
    "from RGB_Lib import Programing_RGB\n",
    "RGB = Programing_RGB()\n",
    "import time\n",
    "import RPi.GPIO as GPIO\n",
    "BEEP_pin = 6\n",
    "GPIO.setmode(GPIO.BCM)\n",
    "GPIO.setup(BEEP_pin,GPIO.OUT,initial = GPIO.LOW)\n",
    "\n",
    "\n",
    "\n",
    "def Beep(beeptime):\n",
    "    GPIO.output(BEEP_pin,GPIO.HIGH)\n",
    "    time.sleep(beeptime)\n",
    "    GPIO.output(BEEP_pin,GPIO.LOW)\n",
    "\n",
    "while True:\n",
    "    RGB.Set_BreathSColor_RGB(6)\n",
    "    key = input('f,b,r,l')\n",
    "    key = key.lower()\n",
    "    print(f'{key} Pressed ... ')\n",
    "\n",
    "    if key == 'f': \n",
    "        Beep(1)\n",
    "        robot.forward(2)\n",
    "        RGB.Set_BreathSColor_RGB(1)\n",
    "        time.sleep(1) \n",
    "        time.sleep(1)\n",
    "        robot.stop()\n",
    "        RGB.Set_BreathSColor_RGB(6)\n",
    "        Beep(1)\n",
    "\n",
    "    elif key == 'b':\n",
    "        Beep(1)\n",
    "        robot.backward(3)\n",
    "        RGB.Set_BreathSColor_RGB(0)\n",
    "        time.sleep(1)\n",
    "        time.sleep(1)\n",
    "        robot.stop()\n",
    "        RGB.Set_BreathSColor_RGB(6)\n",
    "        Beep(1)\n",
    "\n",
    "    elif key == 'r':\n",
    "        Beep(1)\n",
    "        robot.right(0.5)\n",
    "        RGB.Set_BreathSColor_RGB(4)\n",
    "        time.sleep(1)\n",
    "        time.sleep(1)\n",
    "        robot.stop()\n",
    "        RGB.Set_BreathSColor_RGB(6)\n",
    "        Beep(1)\n",
    "\n",
    "    elif key =='l':\n",
    "        Beep(1)\n",
    "        robot.left(0.5)\n",
    "        RGB.Set_BreathSColor_RGB(5)\n",
    "        time.sleep(1)\n",
    "        time.sleep(1)\n",
    "        robot.stop()\n",
    "        RGB.Set_BreathSColor_RGB(6)\n",
    "        Beep(1)\n",
    "\n",
    "        \n",
    "    else:\n",
    "        break\n"
   ]
  }
 ],
 "metadata": {
  "kernelspec": {
   "display_name": "Python 3",
   "language": "python",
   "name": "python3"
  },
  "language_info": {
   "codemirror_mode": {
    "name": "ipython",
    "version": 3
   },
   "file_extension": ".py",
   "mimetype": "text/x-python",
   "name": "python",
   "nbconvert_exporter": "python",
   "pygments_lexer": "ipython3",
   "version": "3.6.9"
  }
 },
 "nbformat": 4,
 "nbformat_minor": 4
}
